{
 "cells": [
  {
   "cell_type": "code",
   "execution_count": 1,
   "metadata": {},
   "outputs": [],
   "source": [
    "import numpy as np\n",
    "import pandas as pd\n",
    "import matplotlib.pyplot as plt"
   ]
  },
  {
   "cell_type": "code",
   "execution_count": 2,
   "metadata": {},
   "outputs": [],
   "source": [
    "#define constants\n",
    "hbar = 1.055e-34 #m2kg/s\n",
    "kb = 1.38e-23 #J/K\n",
    "\n",
    "#material specific\n",
    "Vuc = (6.06e-10)**3\n",
    "Nbands = 6\n",
    "Nq = 8"
   ]
  },
  {
   "cell_type": "code",
   "execution_count": 3,
   "metadata": {},
   "outputs": [],
   "source": [
    "#file specific\n",
    "Tsmp = 50; N=64"
   ]
  },
  {
   "cell_type": "code",
   "execution_count": 4,
   "metadata": {},
   "outputs": [
    {
     "name": "stdout",
     "output_type": "stream",
     "text": [
      "(8, 6) (48, 3) (8, 6) (48, 2)\n"
     ]
    }
   ],
   "source": [
    "#import data\n",
    "folder = \".\\Test-VASP-sm\"\n",
    "dfomega = pd.read_csv(folder+\"\\BTE.omega\",sep='\\s+',header=None,skipinitialspace=True)\n",
    "datomega = dfomega.values\n",
    "dfv = pd.read_csv(folder+\"\\BTE.v\",sep='\\s+',header=None,skipinitialspace=True)\n",
    "datv = dfv.values\n",
    "dfq = pd.read_csv(folder+\"\\BTE.qpoints\",sep='\\s+',header=None,skipinitialspace=True)\n",
    "datq = dfq.values\n",
    "dfgiso = pd.read_csv(folder+\"\\BTE.w_isotopic\",sep='\\s+',header=None,skipinitialspace=True)\n",
    "datgiso = dfgiso.values\n",
    "print(datomega.shape,datv.shape,datq.shape,datgiso.shape)"
   ]
  },
  {
   "cell_type": "code",
   "execution_count": 5,
   "metadata": {},
   "outputs": [
    {
     "name": "stdout",
     "output_type": "stream",
     "text": [
      "(48, 2) (48, 2) (48, 2)\n"
     ]
    }
   ],
   "source": [
    "# import T dependent data\n",
    "dfg0 = pd.read_csv(folder+f\"\\T{Tsmp}K\"+\"\\BTE.w\",sep='\\s+',header=None,skipinitialspace=True)\n",
    "datg0 = dfg0.values\n",
    "dfgp = pd.read_csv(folder+f\"\\T{Tsmp}K\"+\"\\BTE.w_anharmonic_plus\",sep='\\s+',header=None,skipinitialspace=True)\n",
    "datgp = dfgp.values\n",
    "dfgm = pd.read_csv(folder+f\"\\T{Tsmp}K\"+\"\\BTE.w_anharmonic_minus\",sep='\\s+',header=None,skipinitialspace=True)\n",
    "datgm = dfgm.values\n",
    "print(datg0.shape,datgp.shape,datgm.shape)"
   ]
  },
  {
   "cell_type": "code",
   "execution_count": 6,
   "metadata": {},
   "outputs": [],
   "source": [
    "def find_tau0(g0):\n",
    "    tau = 1/g0[:,1]\n",
    "    tau = tau.reshape(-1,1)\n",
    "    tau[np.where(tau==np.inf)] = 0\n",
    "    return tau*10**(-12)\n",
    "def find_vx(vv):\n",
    "    return vv[:,0].reshape(-1,1)*10**3\n",
    "def find_n0(w,tt):\n",
    "    n0 = 1/(np.exp(hbar*w*10**12/tt/kb)-1)\n",
    "    n0 = n0.T.reshape(-1,1)\n",
    "    n0[np.where(n0==np.inf)] = 0\n",
    "    return n0"
   ]
  },
  {
   "cell_type": "code",
   "execution_count": 7,
   "metadata": {},
   "outputs": [
    {
     "name": "stderr",
     "output_type": "stream",
     "text": [
      "C:\\Users\\jihci\\AppData\\Local\\Temp\\ipykernel_85428\\506401714.py:2: RuntimeWarning: divide by zero encountered in true_divide\n",
      "  tau = 1/g0[:,1]\n",
      "C:\\Users\\jihci\\AppData\\Local\\Temp\\ipykernel_85428\\506401714.py:9: RuntimeWarning: divide by zero encountered in true_divide\n",
      "  n0 = 1/(np.exp(hbar*w*10**12/tt/kb)-1)\n"
     ]
    }
   ],
   "source": [
    "# find tau0, n0, vx, f0, degeneracy\n",
    "tau0 = find_tau0(datg0)\n",
    "n0 = find_n0(datomega,Tsmp)\n",
    "vx = find_vx(datv)\n",
    "\n",
    "f0 = tau0*vx\n",
    "degen = datq[:,2]"
   ]
  },
  {
   "cell_type": "code",
   "execution_count": 8,
   "metadata": {},
   "outputs": [
    {
     "name": "stdout",
     "output_type": "stream",
     "text": [
      "[4.18273384]\n"
     ]
    }
   ],
   "source": [
    "# find k0\n",
    "def calc_k(fin,tt,Ntot,V,n0in,w,vxin,degeneracy):\n",
    "    ww = np.transpose(w).reshape(-1,1)*10**12\n",
    "    #print(ww.shape)\n",
    "    ss = n0in*(n0in+1)*(hbar*ww)**2*vxin*fin\n",
    "    for i in range(len(ss)):\n",
    "        ss[i] = ss[i]*degeneracy[i//Nbands]\n",
    "    #print(ss.shape)\n",
    "    k0 = sum(ss)/(kb*tt**2*Ntot*V)\n",
    "    #print(k0.shape)\n",
    "    return k0\n",
    "k0 = calc_k(f0,Tsmp,N,Vuc,n0,datomega,vx,degen)\n",
    "print(k0)"
   ]
  },
  {
   "cell_type": "code",
   "execution_count": 9,
   "metadata": {},
   "outputs": [
    {
     "name": "stdout",
     "output_type": "stream",
     "text": [
      "8 8\n"
     ]
    }
   ],
   "source": [
    "# find symmetry allowed pairs\n",
    "def find_poss_ind_p(p0,qq):\n",
    "    plus_dict = dict()\n",
    "    for i in range(len(qq)):\n",
    "        #plus_dict[i] = []\n",
    "        for j in range(len(qq)):\n",
    "            if np.all(qq[j,3:] == (qq[p0,3:] + qq[i,3:])%1):\n",
    "                #plus_dict[i].append(j)\n",
    "                if i in plus_dict:\n",
    "                    print(\"multiple indices. sth wrong\")\n",
    "                else:\n",
    "                    plus_dict[i] = j\n",
    "    return plus_dict\n",
    "\n",
    "def find_poss_ind_m(p0,qq):\n",
    "    minus_dict = dict()\n",
    "    for i in range(len(qq)):\n",
    "        for j in range(len(qq)):\n",
    "            if np.all(qq[j,3:] == (qq[p0,3:] - qq[i,3:])%1):\n",
    "                if i in minus_dict:\n",
    "                    print(\"multiple indices. sth wrong\")\n",
    "                else:\n",
    "                    minus_dict[i] = j\n",
    "    return minus_dict\n",
    "\n",
    "def generate_poss_pairs(qq):\n",
    "    dictall_p = dict()\n",
    "    dictall_m = dict()\n",
    "    for i in range(Nq):\n",
    "        dictall_p[i] = find_poss_ind_p(i,qq)\n",
    "        dictall_m[i] = find_poss_ind_m(i,qq)\n",
    "    return dictall_p, dictall_m\n",
    "\n",
    "dicts_p,dicts_m = generate_poss_pairs(datq)\n",
    "print(len(dicts_p),len(dicts_m))"
   ]
  },
  {
   "cell_type": "code",
   "execution_count": 10,
   "metadata": {},
   "outputs": [],
   "source": [
    "# calculate df at a specific wavevector, branch\n",
    "# Nband, Nq treated as constants\n",
    "def update_df_pb(fin,ppfull0,omegain,dict_pin,dict_min,tau0in):\n",
    "\n",
    "    ppos0 = ppfull0 % Nq\n",
    "    pband0 = ppfull0 // Nq\n",
    "    dictp = dict_pin[ppos0]\n",
    "    dictm = dict_min[ppos0]\n",
    "    sump = 0\n",
    "    summ = 0\n",
    "    sumiso = 0\n",
    "\n",
    "    omega0 = omegain[ppos0,pband0]\n",
    "\n",
    "    for p1 in dictp:\n",
    "        p2 = dictp[p1]\n",
    "        for nband1 in range(Nbands):\n",
    "            pfull1 = Nq*nband1 + p1\n",
    "            for nband2 in range(Nbands):\n",
    "                pfull2 = Nq*nband2 + p2\n",
    "                sump += omegain[p1,nband1]/omega0*fin[pfull1] - omegain[p2,nband2]/omega0*fin[pfull2]\n",
    "\n",
    "    for p1 in dictm:\n",
    "        p2 = dictm[p1]\n",
    "        for nband1 in range(Nbands):\n",
    "            pfull1 = Nq*nband1 + p1\n",
    "            for nband2 in range(Nbands):\n",
    "                pfull2 = Nq*nband2 + p2\n",
    "                summ += omegain[p1,nband1]/omega0*fin[pfull1] - omegain[p2,nband2]/omega0*fin[pfull2]\n",
    "\n",
    "    #assume g_iso includes all omega\n",
    "    for i in range(Nbands*Nq):\n",
    "        sumiso += omegain[i%Nq,i//Nq]/omega0*fin[i]\n",
    "\n",
    "    df = (1/N)*(datgp[ppfull0,1]*sump+0.5*datgm[ppfull0,1]*summ+datgiso[ppfull0,1]*sumiso)\n",
    "\n",
    "    #return df*tau0in[ppfull0]\n",
    "    return df"
   ]
  },
  {
   "cell_type": "code",
   "execution_count": 11,
   "metadata": {},
   "outputs": [
    {
     "name": "stdout",
     "output_type": "stream",
     "text": [
      "[-2.89887264e-11]\n"
     ]
    }
   ],
   "source": [
    "# test df at one point\n",
    "df_1test = update_df_pb(f0,1,datomega,dicts_p,dicts_m,tau0)\n",
    "print(df_1test)"
   ]
  },
  {
   "cell_type": "code",
   "execution_count": 13,
   "metadata": {},
   "outputs": [],
   "source": [
    "# iterates - Jacobian\n",
    "\n",
    "# iterate df once, output n*1 vector\n",
    "def update_df_all_jac(fin,omegain,dict_pin,dict_min,tau0in):\n",
    "    df_all = np.zeros(fin.size)\n",
    "    for i in range(fin.size):\n",
    "        if omegain[i%Nq,i//Nq] != 0:\n",
    "            df_all[i] = update_df_pb(fin,i,omegain,dict_pin,dict_min,tau0in)\n",
    "    return df_all.reshape(-1,1)\n",
    "\n",
    "# iterate k multiple times\n",
    "def iterate_k_jac(nnITER,tt,Ntot,Vin,f0in,n0in,omegain,vxin,degeneracy,dict_pin,dict_min,tau0in):\n",
    "    \n",
    "    fold = f0in[:]\n",
    "    flist = [fold]\n",
    "    dflist = [[0]*f0in.size]\n",
    "    k0 = calc_k(f0in,tt,Ntot,Vin,n0in,omegain,vxin,degeneracy)\n",
    "    klist = [k0]\n",
    "    for _ in range(nnITER):\n",
    "        df = update_df_all_jac(fold,omegain,dict_pin,dict_min,tau0in)\n",
    "        #print(np.max(abs(df)))\n",
    "        dflist.append(df)\n",
    "        fn = f0in + df.reshape(-1,1)\n",
    "        flist.append(fn)\n",
    "        klist.append(calc_k(fn,tt,Ntot,Vin,n0in,omegain,vxin,degeneracy))\n",
    "        fold = fn\n",
    "\n",
    "    return flist,klist,dflist"
   ]
  },
  {
   "cell_type": "code",
   "execution_count": 14,
   "metadata": {},
   "outputs": [],
   "source": [
    "def update_df_all_gs(fin,omegain,dict_pin,dict_min,tau0in):\n",
    "    fold_step = np.copy(fin)\n",
    "    length = fold_step.size\n",
    "    df_all = np.zeros(length)\n",
    "    df_all_i=0\n",
    "\n",
    "    for i in range(length):\n",
    "        if omegain[i%Nq][i//Nq] != 0:\n",
    "            df_all_i = update_df_pb(fold_step,i,omegain,dict_pin,dict_min,tau0in)\n",
    "            df_all[i] = df_all_i\n",
    "        fold_step[i] = fold_step[i]+df_all_i\n",
    "\n",
    "    return df_all.reshape(-1,1)\n",
    "\n",
    "def iterate_k_gs(nnITER,tt,Ntot,Vin,f0in,n0in,omegain,vxin,degeneracy,dict_pin,dict_min,tau0in):\n",
    "    fold = np.copy(f0in)\n",
    "    length = len(fold)\n",
    "    flist = [fold]\n",
    "    dflist = [[0]*length]\n",
    "    k0calc = calc_k(f0in,tt,Ntot,Vin,n0in,omegain,vxin,degeneracy)\n",
    "    klist = []\n",
    "    klist.append(k0calc)\n",
    "    for _ in range(nnITER):\n",
    "        df = update_df_all_gs(fold,omegain,dict_pin,dict_min,tau0in)\n",
    "        dflist.append(df)\n",
    "        fn = f0in + df\n",
    "        flist.append(fn)\n",
    "        klist.append(calc_k(fn,tt,Ntot,Vin,n0in,omegain,vxin,degeneracy))\n",
    "        fold = fn[:]\n",
    "\n",
    "    return flist,klist,dflist"
   ]
  },
  {
   "cell_type": "code",
   "execution_count": 15,
   "metadata": {},
   "outputs": [],
   "source": [
    "def iterate_k_sor(fac,nnITER,tt,Ntot,Vin,f0in,n0in,omegain,vxin,degeneracy,dict_pin,dict_min,tau0in):\n",
    "    \n",
    "    fold = np.copy(f0in)\n",
    "    flist = [fold]\n",
    "    dflist = [[0]*fold.size]\n",
    "    k0 = calc_k(f0in,tt,Ntot,Vin,n0in,omegain,vxin,degeneracy)\n",
    "    klist = [k0]\n",
    "    #print(klist)\n",
    "    for _ in range(nnITER):\n",
    "        df = update_df_all_gs(fold,omegain,dict_pin,dict_min,tau0in)*fac\n",
    "        #print(np.max(abs(df)))\n",
    "        dflist.append(df)\n",
    "        fn = f0in + df.reshape(-1,1)\n",
    "        flist.append(fn)\n",
    "        klist.append(calc_k(fn,tt,Ntot,Vin,n0in,omegain,vxin,degeneracy))\n",
    "        #print(klist)\n",
    "        fold = fn\n",
    "\n",
    "    return flist,klist,dflist"
   ]
  },
  {
   "cell_type": "code",
   "execution_count": 16,
   "metadata": {},
   "outputs": [
    {
     "name": "stdout",
     "output_type": "stream",
     "text": [
      "16 [array([4.18273384]), array([4.18388577]), array([4.18387318]), array([4.18387235]), array([4.18387232]), array([4.18387231]), array([4.18387231]), array([4.18387231]), array([4.18387231]), array([4.18387231]), array([4.18387231]), array([4.18387231]), array([4.18387231]), array([4.18387231]), array([4.18387231]), array([4.18387231])]\n",
      "[[ 0.00000000e+00]\n",
      " [-1.08593525e-06]\n",
      " [ 7.50355128e-24]]\n"
     ]
    }
   ],
   "source": [
    "# test\n",
    "fl,kl,dfl = iterate_k_jac(15,Tsmp,N,Vuc,f0,n0,datomega,vx,degen,dicts_p,dicts_m,tau0)\n",
    "print(len(kl),kl)\n",
    "print(f0[:3])"
   ]
  },
  {
   "cell_type": "code",
   "execution_count": 17,
   "metadata": {},
   "outputs": [
    {
     "name": "stdout",
     "output_type": "stream",
     "text": [
      "[array([4.18273384]), array([4.18388457]), array([4.18387152]), array([4.18387065]), array([4.18387061]), array([4.18387061]), array([4.18387061]), array([4.18387061]), array([4.18387061]), array([4.18387061]), array([4.18387061]), array([4.18387061]), array([4.18387061]), array([4.18387061]), array([4.18387061]), array([4.18387061])]\n",
      "[[ 0.00000000e+00]\n",
      " [-1.08593525e-06]\n",
      " [ 7.50355128e-24]]\n"
     ]
    }
   ],
   "source": [
    "flgs,klgs,dflgs = iterate_k_gs(15,Tsmp,N,Vuc,f0,n0,datomega,vx,degen,dicts_p,dicts_m,tau0)\n",
    "print(klgs)\n",
    "print(f0[:3])"
   ]
  },
  {
   "cell_type": "code",
   "execution_count": 18,
   "metadata": {},
   "outputs": [
    {
     "name": "stdout",
     "output_type": "stream",
     "text": [
      "[array([4.18273384]), array([4.18353935]), array([4.18353296]), array([4.18353266]), array([4.18353265]), array([4.18353265]), array([4.18353265]), array([4.18353265]), array([4.18353265]), array([4.18353265]), array([4.18353265]), array([4.18353265]), array([4.18353265]), array([4.18353265]), array([4.18353265]), array([4.18353265])]\n"
     ]
    }
   ],
   "source": [
    "flsor,klsor,dflsor = iterate_k_sor(0.7,15,Tsmp,N,Vuc,f0,n0,datomega,vx,degen,dicts_p,dicts_m,tau0)\n",
    "print(klsor)"
   ]
  },
  {
   "cell_type": "code",
   "execution_count": 19,
   "metadata": {},
   "outputs": [
    {
     "data": {
      "image/png": "[encoded data removed]",
      "text/plain": [
       "<Figure size 600x400 with 1 Axes>"
      ]
     },
     "metadata": {},
     "output_type": "display_data"
    }
   ],
   "source": [
    "fig1=plt.figure(figsize=((6,4)))\n",
    "plt.plot(kl,'-o',label='Jacobian')\n",
    "plt.plot(klgs,'-o',label='Gauss-Seidel')\n",
    "plt.plot(klsor,'-o',label=r'SOR, $\\omega=0.7$')\n",
    "plt.xlabel(\"number of iterations\")\n",
    "plt.ylabel(r'$\\kappa_{xx}\\quad(W/(mK))$')\n",
    "plt.title(\"Comparing Iterative Methods\")\n",
    "plt.legend()\n",
    "fig1.savefig(\"compare.png\")"
   ]
  },
  {
   "cell_type": "code",
   "execution_count": 20,
   "metadata": {},
   "outputs": [
    {
     "data": {
      "text/plain": [
       "<matplotlib.legend.Legend at 0x1ab41892280>"
      ]
     },
     "execution_count": 20,
     "metadata": {},
     "output_type": "execute_result"
    },
    {
     "data": {
      "image/png": "[encoded data removed]",
      "text/plain": [
       "<Figure size 600x400 with 1 Axes>"
      ]
     },
     "metadata": {},
     "output_type": "display_data"
    }
   ],
   "source": [
    "plt.figure(figsize=((6,4)))\n",
    "plt.semilogx(kl,'-o',label='Jacobian')\n",
    "plt.semilogx(klgs,'-o',label='Gauss-Seidel')\n",
    "plt.semilogx(klsor,'-o',label='SOR')\n",
    "plt.xlabel(\"number of iterations\")\n",
    "plt.ylabel(r'$\\kappa_{xx}\\quad(W/(mK))$')\n",
    "plt.ylim(4.1834,4.184)\n",
    "plt.legend()"
   ]
  },
  {
   "cell_type": "code",
   "execution_count": null,
   "metadata": {},
   "outputs": [],
   "source": []
  }
 ],
 "metadata": {
  "kernelspec": {
   "display_name": "base",
   "language": "python",
   "name": "python3"
  },
  "language_info": {
   "codemirror_mode": {
    "name": "ipython",
    "version": 3
   },
   "file_extension": ".py",
   "mimetype": "text/x-python",
   "name": "python",
   "nbconvert_exporter": "python",
   "pygments_lexer": "ipython3",
   "version": "3.9.13"
  }
 },
 "nbformat": 4,
 "nbformat_minor": 2
}
